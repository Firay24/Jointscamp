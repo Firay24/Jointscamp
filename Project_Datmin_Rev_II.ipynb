{
  "nbformat": 4,
  "nbformat_minor": 0,
  "metadata": {
    "colab": {
      "name": "Project Datmin Rev II.ipynb",
      "provenance": [],
      "collapsed_sections": [],
      "authorship_tag": "ABX9TyM2AZwrgEfAHiB+blviGDle",
      "include_colab_link": true
    },
    "kernelspec": {
      "name": "python3",
      "display_name": "Python 3"
    },
    "language_info": {
      "name": "python"
    }
  },
  "cells": [
    {
      "cell_type": "markdown",
      "metadata": {
        "id": "view-in-github",
        "colab_type": "text"
      },
      "source": [
        "<a href=\"https://colab.research.google.com/github/Firay24/Jointscamp/blob/main/Project_Datmin_Rev_II.ipynb\" target=\"_parent\"><img src=\"https://colab.research.google.com/assets/colab-badge.svg\" alt=\"Open In Colab\"/></a>"
      ]
    },
    {
      "cell_type": "markdown",
      "metadata": {
        "id": "S-9D5P6QxsFN"
      },
      "source": [
        "#<center><h1>**`STUDI KASUS`**</h1></center>"
      ]
    },
    {
      "cell_type": "markdown",
      "metadata": {
        "id": "EuXwHn9Ux84W"
      },
      "source": [
        "`Overview`\n",
        "\n",
        "Saat ini, perusahaan asuransi menyediakan layanan asuransi yang beragam seperti asuransi jiwa, asuransi kesehatan, asuransi properti, maupun asuransi kendaraan. Setiap perusahaan berlomba-lomba untuk meningkatkan pelayanan, efisiensi operasional, maupun menambah jumlah pelanggan asuransi. Hal-hal tersebut dapat mudah dicapai dengan mengaplikasikan machine learning (ML).\n",
        "\n",
        "`Problems!!!`\n",
        "\n",
        "Sebuah perusahaan asuransi bernama \"J Insurance\" sudah berdiri lama. Produk yang mereka berikan baru berupa asuransi kesehatan, asuransi jiwa, dan asuransi kendaraan. Perusahaan \"J Insurance\" berkembang pesat hingga menjadi perusahaaan asuransi nomor 1 di negaranya dan ingin untuk terus memegang prestasi tersebut. Salah satu caranya adalah mereka ingin mempertahankan pelanggan lama.\n",
        "\n",
        "\n",
        "`Kolom`\n",
        "\n",
        "\n",
        "* Id: - Unique identifier untuk setiap pelanggan\n",
        "* Umur: - Umur pelanggan saat ini\n",
        "* Item daftar\n",
        "* Izin Mengemudi: - Kepemilikan SIM (1: Yes, 0: No)\n",
        "* Kode Wilayah: - Unique code tempat tinggal pelanggan\n",
        "* Tanggal Asuransi: - Tanggal pelanggan mulai melakukan layanan asuransi\n",
        "* Tahun Kendaraan: - Lama waktu kepemilikan kendaraan\n",
        "* Biaya: - Biaya asuransi yg perlu dibayarkan pelanggan tahun ini\n",
        "* Sourcing Channel: - Nomor channel pelanggan mendapatkan informasi mengenai asuransi\n",
        "* Hari Diasuransikan: - Lama hari pelanggan telah menjalin kerjasama asuransi\n",
        "* Target: - Pelanggan tertarik melanjutkan asuransi = 1, sebaliknya = 0\n",
        "*   Gender: - Jenis kelamin pelanggan\n",
        "\n",
        "🟢 `Goals`:  memprediksi apakah suatu pelanggan lama asuransi ingin meneruskan layanan asuransi atau berhenti berlangganan\n"
      ]
    },
    {
      "cell_type": "markdown",
      "metadata": {
        "id": "FGFOimOky8Kc"
      },
      "source": [
        "`Sumber`:\n",
        "[J Insurance Users | Kaggle](https://www.kaggle.com/c/penyisihan-joints2021/data)"
      ]
    },
    {
      "cell_type": "markdown",
      "metadata": {
        "id": "1A9mf3H0QJSd"
      },
      "source": [
        "# import library"
      ]
    },
    {
      "cell_type": "code",
      "metadata": {
        "id": "kI384hf-QL0S"
      },
      "source": [
        "import pandas as pd\n",
        "import numpy as np\n",
        "import matplotlib.pyplot as plt\n",
        "import seaborn as sns\n",
        "from sklearn.model_selection import train_test_split\n",
        "from sklearn.preprocessing import MinMaxScaler\n",
        "from sklearn.ensemble import RandomForestClassifier\n",
        "from sklearn.metrics import confusion_matrix\n",
        "from sklearn.metrics import classification_report, accuracy_score, precision_score, recall_score"
      ],
      "execution_count": null,
      "outputs": []
    },
    {
      "cell_type": "markdown",
      "metadata": {
        "id": "CRJpZpThQDyH"
      },
      "source": [
        "# loading data"
      ]
    },
    {
      "cell_type": "code",
      "metadata": {
        "colab": {
          "base_uri": "https://localhost:8080/"
        },
        "id": "a8Me7EC7zmuu",
        "outputId": "ad72fe1b-dfa9-4c69-826f-5fe6487d36a7"
      },
      "source": [
        "data = pd.read_csv('train_data.csv')\n",
        "data.tail()"
      ],
      "execution_count": null,
      "outputs": [
        {
          "output_type": "execute_result",
          "data": {
            "text/html": [
              "<div>\n",
              "<style scoped>\n",
              "    .dataframe tbody tr th:only-of-type {\n",
              "        vertical-align: middle;\n",
              "    }\n",
              "\n",
              "    .dataframe tbody tr th {\n",
              "        vertical-align: top;\n",
              "    }\n",
              "\n",
              "    .dataframe thead th {\n",
              "        text-align: right;\n",
              "    }\n",
              "</style>\n",
              "<table border=\"1\" class=\"dataframe\">\n",
              "  <thead>\n",
              "    <tr style=\"text-align: right;\">\n",
              "      <th></th>\n",
              "      <th>id</th>\n",
              "      <th>Gender</th>\n",
              "      <th>Umur</th>\n",
              "      <th>Izin_Mengemudi</th>\n",
              "      <th>Kode_Wilayah</th>\n",
              "      <th>Tanggal_Asuransi</th>\n",
              "      <th>Tahun_Kendaraan</th>\n",
              "      <th>Biaya</th>\n",
              "      <th>Sourcing_Channel</th>\n",
              "      <th>Hari_Diasuransikan</th>\n",
              "      <th>Target</th>\n",
              "    </tr>\n",
              "  </thead>\n",
              "  <tbody>\n",
              "    <tr>\n",
              "      <th>382149</th>\n",
              "      <td>255964</td>\n",
              "      <td>Pria</td>\n",
              "      <td>52.0</td>\n",
              "      <td>1.0</td>\n",
              "      <td>28.0</td>\n",
              "      <td>NaN</td>\n",
              "      <td>&gt;2 Tahun</td>\n",
              "      <td>NaN</td>\n",
              "      <td>NaN</td>\n",
              "      <td>217.0</td>\n",
              "      <td>1</td>\n",
              "    </tr>\n",
              "    <tr>\n",
              "      <th>382150</th>\n",
              "      <td>102144</td>\n",
              "      <td>Pria</td>\n",
              "      <td>23.0</td>\n",
              "      <td>1.0</td>\n",
              "      <td>NaN</td>\n",
              "      <td>8/27/2018</td>\n",
              "      <td>&lt;1 Tahun</td>\n",
              "      <td>29282.0</td>\n",
              "      <td>152.0</td>\n",
              "      <td>260.0</td>\n",
              "      <td>0</td>\n",
              "    </tr>\n",
              "    <tr>\n",
              "      <th>382151</th>\n",
              "      <td>480784</td>\n",
              "      <td>Pria</td>\n",
              "      <td>NaN</td>\n",
              "      <td>1.0</td>\n",
              "      <td>3.0</td>\n",
              "      <td>9/12/2019</td>\n",
              "      <td>NaN</td>\n",
              "      <td>29217.0</td>\n",
              "      <td>NaN</td>\n",
              "      <td>NaN</td>\n",
              "      <td>1</td>\n",
              "    </tr>\n",
              "    <tr>\n",
              "      <th>382152</th>\n",
              "      <td>321214</td>\n",
              "      <td>NaN</td>\n",
              "      <td>51.0</td>\n",
              "      <td>1.0</td>\n",
              "      <td>NaN</td>\n",
              "      <td>8/8/2019</td>\n",
              "      <td>NaN</td>\n",
              "      <td>42063.0</td>\n",
              "      <td>26.0</td>\n",
              "      <td>148.0</td>\n",
              "      <td>0</td>\n",
              "    </tr>\n",
              "    <tr>\n",
              "      <th>382153</th>\n",
              "      <td>372274</td>\n",
              "      <td>Pria</td>\n",
              "      <td>57.0</td>\n",
              "      <td>1.0</td>\n",
              "      <td>NaN</td>\n",
              "      <td>10/24/2019</td>\n",
              "      <td>1-2 Tahun</td>\n",
              "      <td>NaN</td>\n",
              "      <td>26.0</td>\n",
              "      <td>215.0</td>\n",
              "      <td>0</td>\n",
              "    </tr>\n",
              "  </tbody>\n",
              "</table>\n",
              "</div>"
            ],
            "text/plain": [
              "            id Gender  Umur  ...  Sourcing_Channel  Hari_Diasuransikan Target\n",
              "382149  255964   Pria  52.0  ...               NaN               217.0      1\n",
              "382150  102144   Pria  23.0  ...             152.0               260.0      0\n",
              "382151  480784   Pria   NaN  ...               NaN                 NaN      1\n",
              "382152  321214    NaN  51.0  ...              26.0               148.0      0\n",
              "382153  372274   Pria  57.0  ...              26.0               215.0      0\n",
              "\n",
              "[5 rows x 11 columns]"
            ]
          },
          "metadata": {
            "tags": []
          },
          "execution_count": 4
        }
      ]
    },
    {
      "cell_type": "markdown",
      "metadata": {
        "id": "xuwfXtcwQg8W"
      },
      "source": [
        "# Explore Data Analysis"
      ]
    },
    {
      "cell_type": "code",
      "metadata": {
        "colab": {
          "base_uri": "https://localhost:8080/"
        },
        "id": "z8KHNc4XQl4U",
        "outputId": "add0a24a-aef5-4f24-8603-a4af2e7738d3"
      },
      "source": [
        "# jumlah data (baris, kolom)\n",
        "data.shape"
      ],
      "execution_count": null,
      "outputs": [
        {
          "output_type": "execute_result",
          "data": {
            "text/plain": [
              "(382154, 11)"
            ]
          },
          "metadata": {
            "tags": []
          },
          "execution_count": 26
        }
      ]
    },
    {
      "cell_type": "code",
      "metadata": {
        "colab": {
          "base_uri": "https://localhost:8080/"
        },
        "id": "r7RVqNr8rMFY",
        "outputId": "ae1ddc7c-ca01-48ed-f868-a95f05f80ede"
      },
      "source": [
        "data.columns"
      ],
      "execution_count": null,
      "outputs": [
        {
          "output_type": "execute_result",
          "data": {
            "text/plain": [
              "Index(['id', 'Gender', 'Umur', 'Izin_Mengemudi', 'Kode_Wilayah',\n",
              "       'Tanggal_Asuransi', 'Tahun_Kendaraan', 'Biaya', 'Sourcing_Channel',\n",
              "       'Hari_Diasuransikan', 'Target'],\n",
              "      dtype='object')"
            ]
          },
          "metadata": {
            "tags": []
          },
          "execution_count": 27
        }
      ]
    },
    {
      "cell_type": "markdown",
      "metadata": {
        "id": "Fwjgzm4NrDs4"
      },
      "source": [
        "jumlah kolom hanya 11 dan jumlah datanya cukup banyak yaitu: `382.154`"
      ]
    },
    {
      "cell_type": "code",
      "metadata": {
        "colab": {
          "base_uri": "https://localhost:8080/"
        },
        "id": "uSeWIHeiQzru",
        "outputId": "559ad25d-b397-49ed-b701-61d118b90863"
      },
      "source": [
        "# jumlah data kosong\n",
        "data.isna().sum()"
      ],
      "execution_count": null,
      "outputs": [
        {
          "output_type": "execute_result",
          "data": {
            "text/plain": [
              "id                         0\n",
              "Gender                 31768\n",
              "Umur                   96258\n",
              "Izin_Mengemudi         76647\n",
              "Kode_Wilayah           84074\n",
              "Tanggal_Asuransi       78084\n",
              "Tahun_Kendaraan        66440\n",
              "Biaya                 126537\n",
              "Sourcing_Channel       83645\n",
              "Hari_Diasuransikan     75666\n",
              "Target                     0\n",
              "dtype: int64"
            ]
          },
          "metadata": {
            "tags": []
          },
          "execution_count": 28
        }
      ]
    },
    {
      "cell_type": "markdown",
      "metadata": {
        "id": "-8o1HjAQrPvU"
      },
      "source": [
        "ternyata banyak data yang kosong, terutama pada kolom `biaya`. Data yang tidak kosong terletak pada kolo id dan target"
      ]
    },
    {
      "cell_type": "code",
      "metadata": {
        "colab": {
          "base_uri": "https://localhost:8080/"
        },
        "id": "r29HreqhRHnb",
        "outputId": "65231829-53fa-4806-c34d-faa05ea1de73"
      },
      "source": [
        "# tipe data\n",
        "data.info()"
      ],
      "execution_count": null,
      "outputs": [
        {
          "output_type": "stream",
          "text": [
            "<class 'pandas.core.frame.DataFrame'>\n",
            "RangeIndex: 382154 entries, 0 to 382153\n",
            "Data columns (total 11 columns):\n",
            " #   Column              Non-Null Count   Dtype  \n",
            "---  ------              --------------   -----  \n",
            " 0   id                  382154 non-null  int64  \n",
            " 1   Gender              350386 non-null  object \n",
            " 2   Umur                285896 non-null  float64\n",
            " 3   Izin_Mengemudi      305507 non-null  float64\n",
            " 4   Kode_Wilayah        298080 non-null  float64\n",
            " 5   Tanggal_Asuransi    304070 non-null  object \n",
            " 6   Tahun_Kendaraan     315714 non-null  object \n",
            " 7   Biaya               255617 non-null  float64\n",
            " 8   Sourcing_Channel    298509 non-null  float64\n",
            " 9   Hari_Diasuransikan  306488 non-null  float64\n",
            " 10  Target              382154 non-null  int64  \n",
            "dtypes: float64(6), int64(2), object(3)\n",
            "memory usage: 32.1+ MB\n"
          ],
          "name": "stdout"
        }
      ]
    },
    {
      "cell_type": "markdown",
      "metadata": {
        "id": "ynSlLEVVrm9m"
      },
      "source": [
        "informasi ini bisa digunakan untuk memutuskan bagaimana cara kita untuk meng-handling data kosong dengan memperhatikan tipe data. Misal pada tipe data `float`/`int` atau `numerik` bisa diselesaikan dengan menggunakan `mean`, `modus` atau `median`. Sedangkan tipe data `object` bisa diselesaikan dengan cara dihapus atau mengambil data yang sering muncul pada value nya"
      ]
    },
    {
      "cell_type": "code",
      "metadata": {
        "colab": {
          "base_uri": "https://localhost:8080/",
          "height": 297
        },
        "id": "WfryF5-eY_K4",
        "outputId": "c8629332-0d83-4a48-da1d-fe81feb779be"
      },
      "source": [
        "# informasi statiska data bertipe numerik\n",
        "data.describe()"
      ],
      "execution_count": null,
      "outputs": [
        {
          "output_type": "execute_result",
          "data": {
            "text/html": [
              "<div>\n",
              "<style scoped>\n",
              "    .dataframe tbody tr th:only-of-type {\n",
              "        vertical-align: middle;\n",
              "    }\n",
              "\n",
              "    .dataframe tbody tr th {\n",
              "        vertical-align: top;\n",
              "    }\n",
              "\n",
              "    .dataframe thead th {\n",
              "        text-align: right;\n",
              "    }\n",
              "</style>\n",
              "<table border=\"1\" class=\"dataframe\">\n",
              "  <thead>\n",
              "    <tr style=\"text-align: right;\">\n",
              "      <th></th>\n",
              "      <th>id</th>\n",
              "      <th>Umur</th>\n",
              "      <th>Izin_Mengemudi</th>\n",
              "      <th>Kode_Wilayah</th>\n",
              "      <th>Biaya</th>\n",
              "      <th>Sourcing_Channel</th>\n",
              "      <th>Hari_Diasuransikan</th>\n",
              "      <th>Target</th>\n",
              "    </tr>\n",
              "  </thead>\n",
              "  <tbody>\n",
              "    <tr>\n",
              "      <th>count</th>\n",
              "      <td>382154.000000</td>\n",
              "      <td>285896.000000</td>\n",
              "      <td>305507.000000</td>\n",
              "      <td>298080.000000</td>\n",
              "      <td>255617.000000</td>\n",
              "      <td>298509.000000</td>\n",
              "      <td>306488.000000</td>\n",
              "      <td>382154.000000</td>\n",
              "    </tr>\n",
              "    <tr>\n",
              "      <th>mean</th>\n",
              "      <td>234392.953477</td>\n",
              "      <td>38.916592</td>\n",
              "      <td>0.998815</td>\n",
              "      <td>26.406032</td>\n",
              "      <td>31183.756781</td>\n",
              "      <td>110.872007</td>\n",
              "      <td>154.168995</td>\n",
              "      <td>0.163811</td>\n",
              "    </tr>\n",
              "    <tr>\n",
              "      <th>std</th>\n",
              "      <td>139527.487326</td>\n",
              "      <td>16.706800</td>\n",
              "      <td>0.034402</td>\n",
              "      <td>13.163179</td>\n",
              "      <td>18392.305587</td>\n",
              "      <td>57.862621</td>\n",
              "      <td>83.720850</td>\n",
              "      <td>0.370104</td>\n",
              "    </tr>\n",
              "    <tr>\n",
              "      <th>min</th>\n",
              "      <td>1.000000</td>\n",
              "      <td>20.000000</td>\n",
              "      <td>0.000000</td>\n",
              "      <td>0.000000</td>\n",
              "      <td>2630.000000</td>\n",
              "      <td>1.000000</td>\n",
              "      <td>10.000000</td>\n",
              "      <td>0.000000</td>\n",
              "    </tr>\n",
              "    <tr>\n",
              "      <th>25%</th>\n",
              "      <td>115006.250000</td>\n",
              "      <td>24.000000</td>\n",
              "      <td>1.000000</td>\n",
              "      <td>15.000000</td>\n",
              "      <td>24426.000000</td>\n",
              "      <td>26.000000</td>\n",
              "      <td>81.000000</td>\n",
              "      <td>0.000000</td>\n",
              "    </tr>\n",
              "    <tr>\n",
              "      <th>50%</th>\n",
              "      <td>230461.500000</td>\n",
              "      <td>33.000000</td>\n",
              "      <td>1.000000</td>\n",
              "      <td>28.000000</td>\n",
              "      <td>31887.000000</td>\n",
              "      <td>152.000000</td>\n",
              "      <td>154.000000</td>\n",
              "      <td>0.000000</td>\n",
              "    </tr>\n",
              "    <tr>\n",
              "      <th>75%</th>\n",
              "      <td>345434.750000</td>\n",
              "      <td>52.000000</td>\n",
              "      <td>1.000000</td>\n",
              "      <td>35.000000</td>\n",
              "      <td>40007.000000</td>\n",
              "      <td>152.000000</td>\n",
              "      <td>227.000000</td>\n",
              "      <td>0.000000</td>\n",
              "    </tr>\n",
              "    <tr>\n",
              "      <th>max</th>\n",
              "      <td>508145.000000</td>\n",
              "      <td>85.000000</td>\n",
              "      <td>1.000000</td>\n",
              "      <td>52.000000</td>\n",
              "      <td>540165.000000</td>\n",
              "      <td>163.000000</td>\n",
              "      <td>299.000000</td>\n",
              "      <td>1.000000</td>\n",
              "    </tr>\n",
              "  </tbody>\n",
              "</table>\n",
              "</div>"
            ],
            "text/plain": [
              "                  id           Umur  ...  Hari_Diasuransikan         Target\n",
              "count  382154.000000  285896.000000  ...       306488.000000  382154.000000\n",
              "mean   234392.953477      38.916592  ...          154.168995       0.163811\n",
              "std    139527.487326      16.706800  ...           83.720850       0.370104\n",
              "min         1.000000      20.000000  ...           10.000000       0.000000\n",
              "25%    115006.250000      24.000000  ...           81.000000       0.000000\n",
              "50%    230461.500000      33.000000  ...          154.000000       0.000000\n",
              "75%    345434.750000      52.000000  ...          227.000000       0.000000\n",
              "max    508145.000000      85.000000  ...          299.000000       1.000000\n",
              "\n",
              "[8 rows x 8 columns]"
            ]
          },
          "metadata": {
            "tags": []
          },
          "execution_count": 30
        }
      ]
    },
    {
      "cell_type": "markdown",
      "metadata": {
        "id": "ZbvfKePmsGcS"
      },
      "source": [
        "untuk mengetahui nilai rata-rata, minimal, maksimal, dan beberapa nilai quartir. kolom yang diproses merupakan tipe data `numerik` seperti float ataupun int"
      ]
    },
    {
      "cell_type": "code",
      "metadata": {
        "colab": {
          "base_uri": "https://localhost:8080/"
        },
        "id": "nQgGVz-lXzn1",
        "outputId": "30791f7f-d5f8-48dc-ac86-598444b9bbd8"
      },
      "source": [
        "# sourching channel\n",
        "arr = data['Sourcing_Channel'].unique()\n",
        "print(np.sort(arr))"
      ],
      "execution_count": null,
      "outputs": [
        {
          "output_type": "stream",
          "text": [
            "[  1.   2.   3.   4.   6.   7.   8.   9.  10.  11.  12.  13.  14.  15.\n",
            "  16.  17.  18.  19.  20.  21.  22.  23.  24.  25.  26.  27.  28.  29.\n",
            "  30.  31.  32.  33.  34.  35.  36.  37.  38.  39.  40.  41.  42.  43.\n",
            "  44.  45.  46.  47.  48.  49.  50.  51.  52.  53.  54.  55.  56.  57.\n",
            "  58.  59.  60.  61.  62.  63.  64.  65.  66.  67.  68.  69.  70.  71.\n",
            "  73.  74.  75.  76.  78.  79.  80.  81.  82.  83.  84.  86.  87.  88.\n",
            "  89.  90.  91.  92.  93.  94.  95.  96.  97.  98.  99. 100. 101. 102.\n",
            " 103. 104. 106. 107. 109. 110. 111. 112. 113. 114. 115. 116. 117. 118.\n",
            " 119. 120. 121. 122. 123. 124. 125. 126. 127. 128. 129. 130. 131. 132.\n",
            " 133. 134. 135. 136. 137. 138. 139. 140. 143. 144. 145. 146. 147. 148.\n",
            " 149. 150. 151. 152. 153. 154. 155. 156. 157. 158. 159. 160. 163.  nan]\n"
          ],
          "name": "stdout"
        }
      ]
    },
    {
      "cell_type": "code",
      "metadata": {
        "colab": {
          "base_uri": "https://localhost:8080/"
        },
        "id": "bKkyQASaSbvW",
        "outputId": "8d7ea612-df8c-448f-f795-2d640c1f957b"
      },
      "source": [
        "print(len(arr))"
      ],
      "execution_count": null,
      "outputs": [
        {
          "output_type": "stream",
          "text": [
            "154\n"
          ],
          "name": "stdout"
        }
      ]
    },
    {
      "cell_type": "markdown",
      "metadata": {
        "id": "cA0wDOiSSHBX"
      },
      "source": [
        "Ini merupakan sourching channel yang merupakan channel yang digunakan pelanggan untuk memperoleh informasi perihal asuransi. Ditemukan `154 channel` yang bisa digunakan. Pada kolom ini terdapat beberapa `data kosong`. Dengan itu, untuk meng-handling data kosong digunakan nilai sering muncul atau `modus` yang berarti `channel yang sering dihubungi` tersebut akan `diisikan ke dalam data yang kososng`"
      ]
    },
    {
      "cell_type": "code",
      "metadata": {
        "colab": {
          "base_uri": "https://localhost:8080/"
        },
        "id": "GFd1iCrLcfil",
        "outputId": "24763587-797c-42d4-de3d-c0708400940b"
      },
      "source": [
        "# jumlah kode unik masing-masing wilayah\n",
        "len(data['Kode_Wilayah'].unique())"
      ],
      "execution_count": null,
      "outputs": [
        {
          "output_type": "execute_result",
          "data": {
            "text/plain": [
              "54"
            ]
          },
          "metadata": {
            "tags": []
          },
          "execution_count": 33
        }
      ]
    },
    {
      "cell_type": "markdown",
      "metadata": {
        "id": "L1hkpvcFTLLl"
      },
      "source": [
        "Terdapat `54 wilayah` pelanggan"
      ]
    },
    {
      "cell_type": "code",
      "metadata": {
        "id": "K7n0J4g4U2ya"
      },
      "source": [
        "#transformasi data string ke dalam tipe data datetime\n",
        "data['Tanggal_Asuransi'] = pd.to_datetime(data['Tanggal_Asuransi'])"
      ],
      "execution_count": null,
      "outputs": []
    },
    {
      "cell_type": "code",
      "metadata": {
        "colab": {
          "base_uri": "https://localhost:8080/"
        },
        "id": "Ib7CpSZcIxG1",
        "outputId": "8e50b9d0-30d3-4f59-b0df-ea49d079a68a"
      },
      "source": [
        "data['Tanggal_Asuransi'].mode()"
      ],
      "execution_count": null,
      "outputs": [
        {
          "output_type": "execute_result",
          "data": {
            "text/plain": [
              "0   2019-07-29\n",
              "dtype: datetime64[ns]"
            ]
          },
          "metadata": {
            "tags": []
          },
          "execution_count": 35
        }
      ]
    },
    {
      "cell_type": "markdown",
      "metadata": {
        "id": "VUY1spJLI-lk"
      },
      "source": [
        "pada tanggal `2019-07-29` banyak pelanggan yang mulai mendaftar asuransi di perusahaan"
      ]
    },
    {
      "cell_type": "code",
      "metadata": {
        "colab": {
          "base_uri": "https://localhost:8080/"
        },
        "id": "aSC-HdjCIlFa",
        "outputId": "1d2c062a-dd77-4623-f932-3fe16dc09487"
      },
      "source": [
        "data.info()"
      ],
      "execution_count": null,
      "outputs": [
        {
          "output_type": "stream",
          "text": [
            "<class 'pandas.core.frame.DataFrame'>\n",
            "RangeIndex: 382154 entries, 0 to 382153\n",
            "Data columns (total 11 columns):\n",
            " #   Column              Non-Null Count   Dtype         \n",
            "---  ------              --------------   -----         \n",
            " 0   id                  382154 non-null  int64         \n",
            " 1   Gender              350386 non-null  object        \n",
            " 2   Umur                285896 non-null  float64       \n",
            " 3   Izin_Mengemudi      305507 non-null  float64       \n",
            " 4   Kode_Wilayah        298080 non-null  float64       \n",
            " 5   Tanggal_Asuransi    304070 non-null  datetime64[ns]\n",
            " 6   Tahun_Kendaraan     315714 non-null  object        \n",
            " 7   Biaya               255617 non-null  float64       \n",
            " 8   Sourcing_Channel    298509 non-null  float64       \n",
            " 9   Hari_Diasuransikan  306488 non-null  float64       \n",
            " 10  Target              382154 non-null  int64         \n",
            "dtypes: datetime64[ns](1), float64(6), int64(2), object(2)\n",
            "memory usage: 32.1+ MB\n"
          ],
          "name": "stdout"
        }
      ]
    },
    {
      "cell_type": "markdown",
      "metadata": {
        "id": "9-kcK4VLJK1x"
      },
      "source": [
        "tipe data kolom `tanggal asuransi` menjadi tipe data datetime"
      ]
    },
    {
      "cell_type": "code",
      "metadata": {
        "colab": {
          "base_uri": "https://localhost:8080/"
        },
        "id": "Nua9OHxGaz8y",
        "outputId": "490b0068-9635-4758-8e13-8278f23c6161"
      },
      "source": [
        "data['Izin_Mengemudi'].unique()"
      ],
      "execution_count": null,
      "outputs": [
        {
          "output_type": "execute_result",
          "data": {
            "text/plain": [
              "array([ 1., nan,  0.])"
            ]
          },
          "metadata": {
            "tags": []
          },
          "execution_count": 37
        }
      ]
    },
    {
      "cell_type": "markdown",
      "metadata": {
        "id": "NHuOCs6olIhH"
      },
      "source": [
        "Pada variabel izin mengemudi memiliki value 1 yang berarti `memiliki SIM`, 0 yang berarti `tidak memiliki SIM` dan data `kosong/missing value`"
      ]
    },
    {
      "cell_type": "code",
      "metadata": {
        "colab": {
          "base_uri": "https://localhost:8080/"
        },
        "id": "eLVMsD1BNYJm",
        "outputId": "b0b5a64a-28b0-413e-a58e-5ddbe9857ac7"
      },
      "source": [
        "len(data['Kode_Wilayah'].unique())"
      ],
      "execution_count": null,
      "outputs": [
        {
          "output_type": "execute_result",
          "data": {
            "text/plain": [
              "54"
            ]
          },
          "metadata": {
            "tags": []
          },
          "execution_count": 38
        }
      ]
    },
    {
      "cell_type": "markdown",
      "metadata": {
        "id": "o_3IUcjRmcmH"
      },
      "source": [
        "Jadi wilayah yang dihuni pelanggan terdapat `54 wilayah`"
      ]
    },
    {
      "cell_type": "code",
      "metadata": {
        "colab": {
          "base_uri": "https://localhost:8080/",
          "height": 296
        },
        "id": "4LUMVSYZd106",
        "outputId": "d6ee9817-1bc5-485d-abd2-7ce7d2cdf911"
      },
      "source": [
        "# jumlah pelanggan yang churn\n",
        "sns.countplot(x='Target', data=data)"
      ],
      "execution_count": null,
      "outputs": [
        {
          "output_type": "execute_result",
          "data": {
            "text/plain": [
              "<matplotlib.axes._subplots.AxesSubplot at 0x7ff81990ecd0>"
            ]
          },
          "metadata": {
            "tags": []
          },
          "execution_count": 39
        },
        {
          "output_type": "display_data",
          "data": {
            "image/png": "[encoded data removed]",
            "text/plain": [
              "<Figure size 432x288 with 1 Axes>"
            ]
          },
          "metadata": {
            "tags": [],
            "needs_background": "light"
          }
        }
      ]
    },
    {
      "cell_type": "code",
      "metadata": {
        "colab": {
          "base_uri": "https://localhost:8080/"
        },
        "id": "XlBoCyDLLPzU",
        "outputId": "42f1465a-1227-46f8-978f-0c3122544938"
      },
      "source": [
        "data['Target'].mean()"
      ],
      "execution_count": null,
      "outputs": [
        {
          "output_type": "execute_result",
          "data": {
            "text/plain": [
              "0.16381092439173736"
            ]
          },
          "metadata": {
            "tags": []
          },
          "execution_count": 40
        }
      ]
    },
    {
      "cell_type": "markdown",
      "metadata": {
        "id": "fhG1KVL-TZEN"
      },
      "source": [
        "Ternyata dataset cenderung lebih banyak memiliki informasi data pelanggan yang memutuskan `tidak lanjut berlangganan`/0 dan dengan persentase sekitar 16%"
      ]
    },
    {
      "cell_type": "code",
      "metadata": {
        "colab": {
          "base_uri": "https://localhost:8080/",
          "height": 465
        },
        "id": "O17IcvK3xART",
        "outputId": "668b0348-7b04-4546-e073-68821b267c6e"
      },
      "source": [
        "corr = data.corr()\n",
        "\n",
        "f,ax = plt.subplots(figsize=(9,6))\n",
        "sns.heatmap(corr, annot = True, linewidths=1.5 , fmt = '.2f',ax=ax)\n",
        "plt.show()"
      ],
      "execution_count": null,
      "outputs": [
        {
          "output_type": "display_data",
          "data": {
            "image/png": "[encoded data removed]",
            "text/plain": [
              "<Figure size 648x432 with 2 Axes>"
            ]
          },
          "metadata": {
            "tags": [],
            "needs_background": "light"
          }
        }
      ]
    },
    {
      "cell_type": "markdown",
      "metadata": {
        "id": "eUE8mHfYxTpz"
      },
      "source": [
        "Korelasi merupakan salah satu teknik analisis dalam statistik yang digunakan untuk mencari `hubungan antara dua variabel` yang bersifat kuantitatif. Hubungan dua variabel tersebut dapat terjadi karena adanya `hubungan sebab akibat` atau dapat pula terjadi karena kebetulan saja. Korelasi memiliki range nilai tertinggi yaitu 1, semakin tinggi nilai korelasi maka semakin memiliki hubungan kedua variabel tersebut, sebaliknya semakin kecil atau minus berarti tidak memiliki nilai korelasi sama sekali"
      ]
    },
    {
      "cell_type": "markdown",
      "metadata": {
        "id": "1ndkAqWNxpLV"
      },
      "source": [
        "Yang memiliki hubungan yaitu varibel:\n",
        "*   Tahun kendaraan dengan umur `0.81`\n",
        "*   Target dengan tahun kendaraan `0.29`\n",
        "*   Gender dengan sourching channel `0.15`\n",
        "*   Umur dengan target `0.15`\n",
        "*   Biaya dan dengan umur `0.06`\n",
        "selain dari itu nilainya minus dan nilai korelsinya kecil mendekati 0\n",
        "\n"
      ]
    },
    {
      "cell_type": "code",
      "metadata": {
        "colab": {
          "base_uri": "https://localhost:8080/"
        },
        "id": "JP4lSs5xWJiy",
        "outputId": "79583cfb-222b-4cb8-bacb-74ffcc4f7a14"
      },
      "source": [
        "data.groupby(['Gender','Target'])['Target'].count()"
      ],
      "execution_count": null,
      "outputs": [
        {
          "output_type": "execute_result",
          "data": {
            "text/plain": [
              "Gender  Target\n",
              "Pria    0         157923\n",
              "        1          34891\n",
              "Wanita  0         133736\n",
              "        1          23836\n",
              "Name: Target, dtype: int64"
            ]
          },
          "metadata": {
            "tags": []
          },
          "execution_count": 41
        }
      ]
    },
    {
      "cell_type": "code",
      "metadata": {
        "colab": {
          "base_uri": "https://localhost:8080/",
          "height": 400
        },
        "id": "TvUqPIBcWzRr",
        "outputId": "70bc4bcc-cbc5-49bd-c72c-230f8da79550"
      },
      "source": [
        "sns.catplot(x='Gender', col='Target', kind='count', data=data)"
      ],
      "execution_count": null,
      "outputs": [
        {
          "output_type": "execute_result",
          "data": {
            "text/plain": [
              "<seaborn.axisgrid.FacetGrid at 0x7ff819861810>"
            ]
          },
          "metadata": {
            "tags": []
          },
          "execution_count": 42
        },
        {
          "output_type": "display_data",
          "data": {
            "image/png": "[encoded data removed]",
            "text/plain": [
              "<Figure size 720x360 with 2 Axes>"
            ]
          },
          "metadata": {
            "tags": [],
            "needs_background": "light"
          }
        }
      ]
    },
    {
      "cell_type": "markdown",
      "metadata": {
        "id": "wBvAOzUnpXG_"
      },
      "source": [
        "Dari visualisasi yang disajikan, diperoleh data bahwa ternyata `pria` lebih banyak bertahan atau tidak bertahan"
      ]
    },
    {
      "cell_type": "code",
      "metadata": {
        "colab": {
          "base_uri": "https://localhost:8080/"
        },
        "id": "uBGQ4bimWlfK",
        "outputId": "550cabed-c536-47d1-c0e9-c1668a74cec6"
      },
      "source": [
        "data.groupby(['Izin_Mengemudi','Target'])['Target'].count()"
      ],
      "execution_count": null,
      "outputs": [
        {
          "output_type": "execute_result",
          "data": {
            "text/plain": [
              "Izin_Mengemudi  Target\n",
              "0.0             0            346\n",
              "                1             16\n",
              "1.0             0         255133\n",
              "                1          50012\n",
              "Name: Target, dtype: int64"
            ]
          },
          "metadata": {
            "tags": []
          },
          "execution_count": 43
        }
      ]
    },
    {
      "cell_type": "code",
      "metadata": {
        "colab": {
          "base_uri": "https://localhost:8080/",
          "height": 384
        },
        "id": "aXhmsmmBW-FI",
        "outputId": "5c7cc1c5-45e6-4dbd-c126-de9e49088472"
      },
      "source": [
        "sns.catplot(x='Izin_Mengemudi', col='Target', kind='count', data=data);"
      ],
      "execution_count": null,
      "outputs": [
        {
          "output_type": "display_data",
          "data": {
            "image/png": "[encoded data removed]",
            "text/plain": [
              "<Figure size 720x360 with 2 Axes>"
            ]
          },
          "metadata": {
            "tags": [],
            "needs_background": "light"
          }
        }
      ]
    },
    {
      "cell_type": "markdown",
      "metadata": {
        "id": "n4Cic9YirB0w"
      },
      "source": [
        "Dari data tersebut, ternyata banyak `memiliki SIM` bagi pelanggan yang memutuskan bertahan menggunakan layanan"
      ]
    },
    {
      "cell_type": "code",
      "metadata": {
        "colab": {
          "base_uri": "https://localhost:8080/",
          "height": 623
        },
        "id": "_w5AghJQuWJR",
        "outputId": "41c5e14b-67a8-452d-be55-ed0144150b4b"
      },
      "source": [
        "fig, ax = plt.subplots(figsize= (6, 10))\n",
        "sns.scatterplot(x=\"Umur\", y = \"Biaya\" , hue=\"Target\", data=data)"
      ],
      "execution_count": null,
      "outputs": [
        {
          "output_type": "execute_result",
          "data": {
            "text/plain": [
              "<matplotlib.axes._subplots.AxesSubplot at 0x7ff813a1e4d0>"
            ]
          },
          "metadata": {
            "tags": []
          },
          "execution_count": 94
        },
        {
          "output_type": "display_data",
          "data": {
            "image/png": "[encoded data removed]",
            "text/plain": [
              "<Figure size 432x720 with 1 Axes>"
            ]
          },
          "metadata": {
            "tags": [],
            "needs_background": "light"
          }
        }
      ]
    },
    {
      "cell_type": "markdown",
      "metadata": {
        "id": "2LycgGx5ucCv"
      },
      "source": [
        "Visualisasi data yang diperoleh yaitu penyebaran data antara target 0 dan 1 dengan meilhat umur dan biaya yang dikeluarkan oleh pelanggan. "
      ]
    },
    {
      "cell_type": "code",
      "metadata": {
        "colab": {
          "base_uri": "https://localhost:8080/",
          "height": 242
        },
        "id": "0o0HhzXSuvjf",
        "outputId": "e22efc49-7936-4b0b-f1ce-e1f35a2398fb"
      },
      "source": [
        "facet = sns.FacetGrid(data, hue = \"Target\", aspect = 3)\n",
        "facet.map(sns.kdeplot,\"Umur\",shade= True)\n",
        "facet.set(xlim=(0, data[\"Umur\"].max()))\n",
        "facet.add_legend()"
      ],
      "execution_count": null,
      "outputs": [
        {
          "output_type": "execute_result",
          "data": {
            "text/plain": [
              "<seaborn.axisgrid.FacetGrid at 0x7ff81359edd0>"
            ]
          },
          "metadata": {
            "tags": []
          },
          "execution_count": 95
        },
        {
          "output_type": "display_data",
          "data": {
            "image/png": "[encoded data removed]",
            "text/plain": [
              "<Figure size 690.375x216 with 1 Axes>"
            ]
          },
          "metadata": {
            "tags": [],
            "needs_background": "light"
          }
        }
      ]
    },
    {
      "cell_type": "markdown",
      "metadata": {
        "id": "muaQiZLduzFs"
      },
      "source": [
        "Dari visualisasi data yang diatas, ternyata pelanggan `diusia 15 - 33 tahun` cenderung tetap `bertahan`, terurama di usia sekitar `23 tahun`"
      ]
    },
    {
      "cell_type": "code",
      "metadata": {
        "colab": {
          "base_uri": "https://localhost:8080/",
          "height": 406
        },
        "id": "tg3DShcEvdBR",
        "outputId": "1a0dfbb6-b7d9-4fbb-c94c-5003b2edd45e"
      },
      "source": [
        "fig, ax = plt.subplots(figsize= (8, 6))\n",
        "plt.subplots_adjust(wspace = 0.5)\n",
        "sns.boxplot(x = 'Tahun_Kendaraan',  y = 'Umur', data = data)"
      ],
      "execution_count": null,
      "outputs": [
        {
          "output_type": "execute_result",
          "data": {
            "text/plain": [
              "<matplotlib.axes._subplots.AxesSubplot at 0x7ff8139e9fd0>"
            ]
          },
          "metadata": {
            "tags": []
          },
          "execution_count": 96
        },
        {
          "output_type": "display_data",
          "data": {
            "image/png": "[encoded data removed]",
            "text/plain": [
              "<Figure size 576x432 with 1 Axes>"
            ]
          },
          "metadata": {
            "tags": [],
            "needs_background": "light"
          }
        }
      ]
    },
    {
      "cell_type": "markdown",
      "metadata": {
        "id": "LYGM6BFPvgpG"
      },
      "source": [
        "Visualisasi data diatas ternyata pada usia 50 - 62 tahun banyak pelanggan yang tahun kendaraan diatas 2 tahun. kemudian 1-2 tahun untuk usia 43 - 60 tahun dan yang dibawah dua tahun sekitar usia diatas 21- 25 tahun"
      ]
    },
    {
      "cell_type": "code",
      "metadata": {
        "colab": {
          "base_uri": "https://localhost:8080/",
          "height": 401
        },
        "id": "thoG9ZH_v9Tb",
        "outputId": "30cdcfa0-ee76-43cb-a633-588448c07530"
      },
      "source": [
        "sns.catplot(x='Tahun_Kendaraan', col='Target', kind='count', data=data)"
      ],
      "execution_count": null,
      "outputs": [
        {
          "output_type": "execute_result",
          "data": {
            "text/plain": [
              "<seaborn.axisgrid.FacetGrid at 0x7ff8139a1050>"
            ]
          },
          "metadata": {
            "tags": []
          },
          "execution_count": 97
        },
        {
          "output_type": "display_data",
          "data": {
            "image/png": "[encoded data removed]",
            "text/plain": [
              "<Figure size 720x360 with 2 Axes>"
            ]
          },
          "metadata": {
            "tags": [],
            "needs_background": "light"
          }
        }
      ]
    },
    {
      "cell_type": "markdown",
      "metadata": {
        "id": "RfScB_jywB8k"
      },
      "source": [
        "Visualisasi data diatas diperoleh bahwa tahun kendaraan dibawah 1 tahun cukup banyak dibandingkan dengan lebih dari 2 tahun dan 1-2 tahun"
      ]
    },
    {
      "cell_type": "markdown",
      "metadata": {
        "id": "XxYYvpTwR0Z-"
      },
      "source": [
        "# cleaning data"
      ]
    },
    {
      "cell_type": "code",
      "metadata": {
        "id": "pHtp_nQLJVmK"
      },
      "source": [
        "data = data.dropna()"
      ],
      "execution_count": null,
      "outputs": []
    },
    {
      "cell_type": "code",
      "metadata": {
        "colab": {
          "base_uri": "https://localhost:8080/"
        },
        "id": "kRWU_6N7JcPc",
        "outputId": "38fca3f5-aef7-4533-86e2-e02d9ff66150"
      },
      "source": [
        "data.isnull().sum()"
      ],
      "execution_count": null,
      "outputs": [
        {
          "output_type": "execute_result",
          "data": {
            "text/plain": [
              "id                    0\n",
              "Gender                0\n",
              "Umur                  0\n",
              "Izin_Mengemudi        0\n",
              "Kode_Wilayah          0\n",
              "Tanggal_Asuransi      0\n",
              "Tahun_Kendaraan       0\n",
              "Biaya                 0\n",
              "Sourcing_Channel      0\n",
              "Hari_Diasuransikan    0\n",
              "Target                0\n",
              "dtype: int64"
            ]
          },
          "metadata": {
            "tags": []
          },
          "execution_count": 6
        }
      ]
    },
    {
      "cell_type": "code",
      "metadata": {
        "colab": {
          "base_uri": "https://localhost:8080/"
        },
        "id": "HXnUfTchK4qe",
        "outputId": "c19736a3-7736-4fda-d0e2-5d64c14cb02d"
      },
      "source": [
        "data.shape"
      ],
      "execution_count": null,
      "outputs": [
        {
          "output_type": "execute_result",
          "data": {
            "text/plain": [
              "(60557, 11)"
            ]
          },
          "metadata": {
            "tags": []
          },
          "execution_count": 7
        }
      ]
    },
    {
      "cell_type": "markdown",
      "metadata": {
        "id": "P_h7u22TKVeK"
      },
      "source": [
        "# Preprocesssing data"
      ]
    },
    {
      "cell_type": "markdown",
      "metadata": {
        "id": "PeDm3LW6T86G"
      },
      "source": [
        "`Pemilihan atribut penting atau atribut yang memiliki pengaruh pada target`"
      ]
    },
    {
      "cell_type": "code",
      "metadata": {
        "id": "hLhv0GpcUFX6"
      },
      "source": [
        "data = data.drop(columns=['id', 'Tanggal_Asuransi'])"
      ],
      "execution_count": null,
      "outputs": []
    },
    {
      "cell_type": "code",
      "metadata": {
        "colab": {
          "base_uri": "https://localhost:8080/"
        },
        "id": "3c7o9xWAUh-x",
        "outputId": "b5162fbd-e05a-4aea-ce18-52bec0fe0cb8"
      },
      "source": [
        "data.head()"
      ],
      "execution_count": null,
      "outputs": [
        {
          "output_type": "execute_result",
          "data": {
            "text/html": [
              "<div>\n",
              "<style scoped>\n",
              "    .dataframe tbody tr th:only-of-type {\n",
              "        vertical-align: middle;\n",
              "    }\n",
              "\n",
              "    .dataframe tbody tr th {\n",
              "        vertical-align: top;\n",
              "    }\n",
              "\n",
              "    .dataframe thead th {\n",
              "        text-align: right;\n",
              "    }\n",
              "</style>\n",
              "<table border=\"1\" class=\"dataframe\">\n",
              "  <thead>\n",
              "    <tr style=\"text-align: right;\">\n",
              "      <th></th>\n",
              "      <th>Gender</th>\n",
              "      <th>Umur</th>\n",
              "      <th>Izin_Mengemudi</th>\n",
              "      <th>Kode_Wilayah</th>\n",
              "      <th>Tahun_Kendaraan</th>\n",
              "      <th>Biaya</th>\n",
              "      <th>Sourcing_Channel</th>\n",
              "      <th>Hari_Diasuransikan</th>\n",
              "      <th>Target</th>\n",
              "    </tr>\n",
              "  </thead>\n",
              "  <tbody>\n",
              "    <tr>\n",
              "      <th>5</th>\n",
              "      <td>Pria</td>\n",
              "      <td>55.0</td>\n",
              "      <td>1.0</td>\n",
              "      <td>28.0</td>\n",
              "      <td>1-2 Tahun</td>\n",
              "      <td>54135.0</td>\n",
              "      <td>52.0</td>\n",
              "      <td>285.0</td>\n",
              "      <td>0</td>\n",
              "    </tr>\n",
              "    <tr>\n",
              "      <th>22</th>\n",
              "      <td>Pria</td>\n",
              "      <td>54.0</td>\n",
              "      <td>1.0</td>\n",
              "      <td>48.0</td>\n",
              "      <td>1-2 Tahun</td>\n",
              "      <td>2630.0</td>\n",
              "      <td>124.0</td>\n",
              "      <td>18.0</td>\n",
              "      <td>0</td>\n",
              "    </tr>\n",
              "    <tr>\n",
              "      <th>34</th>\n",
              "      <td>Pria</td>\n",
              "      <td>56.0</td>\n",
              "      <td>1.0</td>\n",
              "      <td>8.0</td>\n",
              "      <td>1-2 Tahun</td>\n",
              "      <td>38459.0</td>\n",
              "      <td>124.0</td>\n",
              "      <td>193.0</td>\n",
              "      <td>0</td>\n",
              "    </tr>\n",
              "    <tr>\n",
              "      <th>41</th>\n",
              "      <td>Wanita</td>\n",
              "      <td>57.0</td>\n",
              "      <td>1.0</td>\n",
              "      <td>35.0</td>\n",
              "      <td>1-2 Tahun</td>\n",
              "      <td>38384.0</td>\n",
              "      <td>26.0</td>\n",
              "      <td>254.0</td>\n",
              "      <td>0</td>\n",
              "    </tr>\n",
              "    <tr>\n",
              "      <th>48</th>\n",
              "      <td>Wanita</td>\n",
              "      <td>21.0</td>\n",
              "      <td>1.0</td>\n",
              "      <td>25.0</td>\n",
              "      <td>&lt;1 Tahun</td>\n",
              "      <td>23492.0</td>\n",
              "      <td>160.0</td>\n",
              "      <td>154.0</td>\n",
              "      <td>0</td>\n",
              "    </tr>\n",
              "  </tbody>\n",
              "</table>\n",
              "</div>"
            ],
            "text/plain": [
              "    Gender  Umur  Izin_Mengemudi  ...  Sourcing_Channel Hari_Diasuransikan  Target\n",
              "5     Pria  55.0             1.0  ...              52.0              285.0       0\n",
              "22    Pria  54.0             1.0  ...             124.0               18.0       0\n",
              "34    Pria  56.0             1.0  ...             124.0              193.0       0\n",
              "41  Wanita  57.0             1.0  ...              26.0              254.0       0\n",
              "48  Wanita  21.0             1.0  ...             160.0              154.0       0\n",
              "\n",
              "[5 rows x 9 columns]"
            ]
          },
          "metadata": {
            "tags": []
          },
          "execution_count": 9
        }
      ]
    },
    {
      "cell_type": "markdown",
      "metadata": {
        "id": "y0SSc0DsUmvL"
      },
      "source": [
        "`Transformasi data pada kolom-kolom tertentu yang memiliki nilai bertipe kategorik`"
      ]
    },
    {
      "cell_type": "markdown",
      "metadata": {
        "id": "lCpRNfD8KbDy"
      },
      "source": [
        "Mengganti nilai kolom `gender` dengan `pria` diganti dengan `1` dan `wanita` `0`"
      ]
    },
    {
      "cell_type": "code",
      "metadata": {
        "colab": {
          "base_uri": "https://localhost:8080/"
        },
        "id": "7EkQ-Q8HWWEK",
        "outputId": "d0993c12-88c5-4e41-e8ed-ce0832552d36"
      },
      "source": [
        "data['Gender'].unique()"
      ],
      "execution_count": null,
      "outputs": [
        {
          "output_type": "execute_result",
          "data": {
            "text/plain": [
              "array(['Pria', 'Wanita'], dtype=object)"
            ]
          },
          "metadata": {
            "tags": []
          },
          "execution_count": 10
        }
      ]
    },
    {
      "cell_type": "code",
      "metadata": {
        "id": "XoRVwS4RKZsI"
      },
      "source": [
        "data['Gender'] = data['Gender'].replace('Pria', 1)\n",
        "data['Gender'] = data['Gender'].replace('Wanita', 0)"
      ],
      "execution_count": null,
      "outputs": []
    },
    {
      "cell_type": "markdown",
      "metadata": {
        "id": "tlmIWjWIWsOr"
      },
      "source": [
        "Mengganti nilai kolom `tahun kendaraan` yaitu:\n",
        "1.   dibawah 1 tahun: 0\n",
        "2.   1 - 2 tahun: 1\n",
        "3.   diatas 2 tahun: 2\n",
        "\n"
      ]
    },
    {
      "cell_type": "code",
      "metadata": {
        "colab": {
          "base_uri": "https://localhost:8080/"
        },
        "id": "4d4Ka3mBWrsE",
        "outputId": "558c708a-419a-4ab0-f514-30a9365e0151"
      },
      "source": [
        "data['Tahun_Kendaraan'].unique()"
      ],
      "execution_count": null,
      "outputs": [
        {
          "output_type": "execute_result",
          "data": {
            "text/plain": [
              "array(['1-2 Tahun', '<1 Tahun', '>2 Tahun'], dtype=object)"
            ]
          },
          "metadata": {
            "tags": []
          },
          "execution_count": 12
        }
      ]
    },
    {
      "cell_type": "code",
      "metadata": {
        "id": "PZBXm2iwXQ7v"
      },
      "source": [
        "data['Tahun_Kendaraan'] = data['Tahun_Kendaraan'].replace('<1 Tahun', 0)\n",
        "data['Tahun_Kendaraan'] = data['Tahun_Kendaraan'].replace('1-2 Tahun', 1)\n",
        "data['Tahun_Kendaraan'] = data['Tahun_Kendaraan'].replace('>2 Tahun', 2)"
      ],
      "execution_count": null,
      "outputs": []
    },
    {
      "cell_type": "code",
      "metadata": {
        "colab": {
          "base_uri": "https://localhost:8080/"
        },
        "id": "oKBRRVtzXoau",
        "outputId": "616e4155-5124-4436-a6ef-48fdb68f8553"
      },
      "source": [
        "data.head()"
      ],
      "execution_count": null,
      "outputs": [
        {
          "output_type": "execute_result",
          "data": {
            "text/html": [
              "<div>\n",
              "<style scoped>\n",
              "    .dataframe tbody tr th:only-of-type {\n",
              "        vertical-align: middle;\n",
              "    }\n",
              "\n",
              "    .dataframe tbody tr th {\n",
              "        vertical-align: top;\n",
              "    }\n",
              "\n",
              "    .dataframe thead th {\n",
              "        text-align: right;\n",
              "    }\n",
              "</style>\n",
              "<table border=\"1\" class=\"dataframe\">\n",
              "  <thead>\n",
              "    <tr style=\"text-align: right;\">\n",
              "      <th></th>\n",
              "      <th>Gender</th>\n",
              "      <th>Umur</th>\n",
              "      <th>Izin_Mengemudi</th>\n",
              "      <th>Kode_Wilayah</th>\n",
              "      <th>Tahun_Kendaraan</th>\n",
              "      <th>Biaya</th>\n",
              "      <th>Sourcing_Channel</th>\n",
              "      <th>Hari_Diasuransikan</th>\n",
              "      <th>Target</th>\n",
              "    </tr>\n",
              "  </thead>\n",
              "  <tbody>\n",
              "    <tr>\n",
              "      <th>5</th>\n",
              "      <td>1</td>\n",
              "      <td>55.0</td>\n",
              "      <td>1.0</td>\n",
              "      <td>28.0</td>\n",
              "      <td>1</td>\n",
              "      <td>54135.0</td>\n",
              "      <td>52.0</td>\n",
              "      <td>285.0</td>\n",
              "      <td>0</td>\n",
              "    </tr>\n",
              "    <tr>\n",
              "      <th>22</th>\n",
              "      <td>1</td>\n",
              "      <td>54.0</td>\n",
              "      <td>1.0</td>\n",
              "      <td>48.0</td>\n",
              "      <td>1</td>\n",
              "      <td>2630.0</td>\n",
              "      <td>124.0</td>\n",
              "      <td>18.0</td>\n",
              "      <td>0</td>\n",
              "    </tr>\n",
              "    <tr>\n",
              "      <th>34</th>\n",
              "      <td>1</td>\n",
              "      <td>56.0</td>\n",
              "      <td>1.0</td>\n",
              "      <td>8.0</td>\n",
              "      <td>1</td>\n",
              "      <td>38459.0</td>\n",
              "      <td>124.0</td>\n",
              "      <td>193.0</td>\n",
              "      <td>0</td>\n",
              "    </tr>\n",
              "    <tr>\n",
              "      <th>41</th>\n",
              "      <td>0</td>\n",
              "      <td>57.0</td>\n",
              "      <td>1.0</td>\n",
              "      <td>35.0</td>\n",
              "      <td>1</td>\n",
              "      <td>38384.0</td>\n",
              "      <td>26.0</td>\n",
              "      <td>254.0</td>\n",
              "      <td>0</td>\n",
              "    </tr>\n",
              "    <tr>\n",
              "      <th>48</th>\n",
              "      <td>0</td>\n",
              "      <td>21.0</td>\n",
              "      <td>1.0</td>\n",
              "      <td>25.0</td>\n",
              "      <td>0</td>\n",
              "      <td>23492.0</td>\n",
              "      <td>160.0</td>\n",
              "      <td>154.0</td>\n",
              "      <td>0</td>\n",
              "    </tr>\n",
              "  </tbody>\n",
              "</table>\n",
              "</div>"
            ],
            "text/plain": [
              "    Gender  Umur  Izin_Mengemudi  ...  Sourcing_Channel  Hari_Diasuransikan  Target\n",
              "5        1  55.0             1.0  ...              52.0               285.0       0\n",
              "22       1  54.0             1.0  ...             124.0                18.0       0\n",
              "34       1  56.0             1.0  ...             124.0               193.0       0\n",
              "41       0  57.0             1.0  ...              26.0               254.0       0\n",
              "48       0  21.0             1.0  ...             160.0               154.0       0\n",
              "\n",
              "[5 rows x 9 columns]"
            ]
          },
          "metadata": {
            "tags": []
          },
          "execution_count": 14
        }
      ]
    },
    {
      "cell_type": "markdown",
      "metadata": {
        "id": "6nH3GO3QYAx7"
      },
      "source": [
        "`Normalisasi data dengan menggunakan min max scaler`"
      ]
    },
    {
      "cell_type": "code",
      "metadata": {
        "id": "LCDoHglMYvdz"
      },
      "source": [
        "scaler = MinMaxScaler()\n",
        "data[['Gender','Umur','Izin_Mengemudi','Kode_Wilayah','Tahun_Kendaraan','Biaya','Sourcing_Channel','Hari_Diasuransikan']] = scaler.fit_transform(data[['Gender','Umur','Izin_Mengemudi','Kode_Wilayah','Tahun_Kendaraan','Biaya','Sourcing_Channel','Hari_Diasuransikan']])"
      ],
      "execution_count": null,
      "outputs": []
    },
    {
      "cell_type": "code",
      "metadata": {
        "colab": {
          "base_uri": "https://localhost:8080/"
        },
        "id": "Peen1vZtYFDn",
        "outputId": "55874146-afe1-445f-c78e-3a439f45d964"
      },
      "source": [
        "data.head()"
      ],
      "execution_count": null,
      "outputs": [
        {
          "output_type": "execute_result",
          "data": {
            "text/html": [
              "<div>\n",
              "<style scoped>\n",
              "    .dataframe tbody tr th:only-of-type {\n",
              "        vertical-align: middle;\n",
              "    }\n",
              "\n",
              "    .dataframe tbody tr th {\n",
              "        vertical-align: top;\n",
              "    }\n",
              "\n",
              "    .dataframe thead th {\n",
              "        text-align: right;\n",
              "    }\n",
              "</style>\n",
              "<table border=\"1\" class=\"dataframe\">\n",
              "  <thead>\n",
              "    <tr style=\"text-align: right;\">\n",
              "      <th></th>\n",
              "      <th>Gender</th>\n",
              "      <th>Umur</th>\n",
              "      <th>Izin_Mengemudi</th>\n",
              "      <th>Kode_Wilayah</th>\n",
              "      <th>Tahun_Kendaraan</th>\n",
              "      <th>Biaya</th>\n",
              "      <th>Sourcing_Channel</th>\n",
              "      <th>Hari_Diasuransikan</th>\n",
              "      <th>Target</th>\n",
              "    </tr>\n",
              "  </thead>\n",
              "  <tbody>\n",
              "    <tr>\n",
              "      <th>5</th>\n",
              "      <td>1.0</td>\n",
              "      <td>0.538462</td>\n",
              "      <td>1.0</td>\n",
              "      <td>0.538462</td>\n",
              "      <td>0.5</td>\n",
              "      <td>0.104584</td>\n",
              "      <td>0.314815</td>\n",
              "      <td>0.951557</td>\n",
              "      <td>0</td>\n",
              "    </tr>\n",
              "    <tr>\n",
              "      <th>22</th>\n",
              "      <td>1.0</td>\n",
              "      <td>0.523077</td>\n",
              "      <td>1.0</td>\n",
              "      <td>0.923077</td>\n",
              "      <td>0.5</td>\n",
              "      <td>0.000000</td>\n",
              "      <td>0.759259</td>\n",
              "      <td>0.027682</td>\n",
              "      <td>0</td>\n",
              "    </tr>\n",
              "    <tr>\n",
              "      <th>34</th>\n",
              "      <td>1.0</td>\n",
              "      <td>0.553846</td>\n",
              "      <td>1.0</td>\n",
              "      <td>0.153846</td>\n",
              "      <td>0.5</td>\n",
              "      <td>0.072753</td>\n",
              "      <td>0.759259</td>\n",
              "      <td>0.633218</td>\n",
              "      <td>0</td>\n",
              "    </tr>\n",
              "    <tr>\n",
              "      <th>41</th>\n",
              "      <td>0.0</td>\n",
              "      <td>0.569231</td>\n",
              "      <td>1.0</td>\n",
              "      <td>0.673077</td>\n",
              "      <td>0.5</td>\n",
              "      <td>0.072600</td>\n",
              "      <td>0.154321</td>\n",
              "      <td>0.844291</td>\n",
              "      <td>0</td>\n",
              "    </tr>\n",
              "    <tr>\n",
              "      <th>48</th>\n",
              "      <td>0.0</td>\n",
              "      <td>0.015385</td>\n",
              "      <td>1.0</td>\n",
              "      <td>0.480769</td>\n",
              "      <td>0.0</td>\n",
              "      <td>0.042361</td>\n",
              "      <td>0.981481</td>\n",
              "      <td>0.498270</td>\n",
              "      <td>0</td>\n",
              "    </tr>\n",
              "  </tbody>\n",
              "</table>\n",
              "</div>"
            ],
            "text/plain": [
              "    Gender      Umur  ...  Hari_Diasuransikan  Target\n",
              "5      1.0  0.538462  ...            0.951557       0\n",
              "22     1.0  0.523077  ...            0.027682       0\n",
              "34     1.0  0.553846  ...            0.633218       0\n",
              "41     0.0  0.569231  ...            0.844291       0\n",
              "48     0.0  0.015385  ...            0.498270       0\n",
              "\n",
              "[5 rows x 9 columns]"
            ]
          },
          "metadata": {
            "tags": []
          },
          "execution_count": 16
        }
      ]
    },
    {
      "cell_type": "code",
      "metadata": {
        "id": "SlQsGK34kLLR"
      },
      "source": [
        "from scipy.stats import chisquare\n",
        "result = pd.DataFrame(columns=[\"Features\", \"Chi2Weights\"])\n",
        "\n",
        "for i in range(len(data.columns)):\n",
        "    chi2, p = chisquare(data[data.columns[i]])\n",
        "    result = result.append([pd.Series([data.columns[i], chi2], index = result.columns)], ignore_index=True)"
      ],
      "execution_count": null,
      "outputs": []
    },
    {
      "cell_type": "code",
      "metadata": {
        "id": "JWhX83GtkpSD"
      },
      "source": [
        "result = result.sort_values(by=\"Chi2Weights\", ascending=False)"
      ],
      "execution_count": null,
      "outputs": []
    },
    {
      "cell_type": "code",
      "metadata": {
        "colab": {
          "base_uri": "https://localhost:8080/"
        },
        "id": "R8tnJdpRktOi",
        "outputId": "1e5a1811-461d-488c-bafb-37ccff6bf5ec"
      },
      "source": [
        "result.head(9)"
      ],
      "execution_count": null,
      "outputs": [
        {
          "output_type": "execute_result",
          "data": {
            "text/html": [
              "<div>\n",
              "<style scoped>\n",
              "    .dataframe tbody tr th:only-of-type {\n",
              "        vertical-align: middle;\n",
              "    }\n",
              "\n",
              "    .dataframe tbody tr th {\n",
              "        vertical-align: top;\n",
              "    }\n",
              "\n",
              "    .dataframe thead th {\n",
              "        text-align: right;\n",
              "    }\n",
              "</style>\n",
              "<table border=\"1\" class=\"dataframe\">\n",
              "  <thead>\n",
              "    <tr style=\"text-align: right;\">\n",
              "      <th></th>\n",
              "      <th>Features</th>\n",
              "      <th>Chi2Weights</th>\n",
              "    </tr>\n",
              "  </thead>\n",
              "  <tbody>\n",
              "    <tr>\n",
              "      <th>8</th>\n",
              "      <td>Target</td>\n",
              "      <td>54707.000000</td>\n",
              "    </tr>\n",
              "    <tr>\n",
              "      <th>0</th>\n",
              "      <td>Gender</td>\n",
              "      <td>25513.000000</td>\n",
              "    </tr>\n",
              "    <tr>\n",
              "      <th>4</th>\n",
              "      <td>Tahun_Kendaraan</td>\n",
              "      <td>20950.474027</td>\n",
              "    </tr>\n",
              "    <tr>\n",
              "      <th>1</th>\n",
              "      <td>Umur</td>\n",
              "      <td>15368.824874</td>\n",
              "    </tr>\n",
              "    <tr>\n",
              "      <th>7</th>\n",
              "      <td>Hari_Diasuransikan</td>\n",
              "      <td>10117.845478</td>\n",
              "    </tr>\n",
              "    <tr>\n",
              "      <th>6</th>\n",
              "      <td>Sourcing_Channel</td>\n",
              "      <td>9126.915476</td>\n",
              "    </tr>\n",
              "    <tr>\n",
              "      <th>3</th>\n",
              "      <td>Kode_Wilayah</td>\n",
              "      <td>8093.175713</td>\n",
              "    </tr>\n",
              "    <tr>\n",
              "      <th>5</th>\n",
              "      <td>Biaya</td>\n",
              "      <td>1449.219381</td>\n",
              "    </tr>\n",
              "    <tr>\n",
              "      <th>2</th>\n",
              "      <td>Izin_Mengemudi</td>\n",
              "      <td>66.000000</td>\n",
              "    </tr>\n",
              "  </tbody>\n",
              "</table>\n",
              "</div>"
            ],
            "text/plain": [
              "             Features   Chi2Weights\n",
              "8              Target  54707.000000\n",
              "0              Gender  25513.000000\n",
              "4     Tahun_Kendaraan  20950.474027\n",
              "1                Umur  15368.824874\n",
              "7  Hari_Diasuransikan  10117.845478\n",
              "6    Sourcing_Channel   9126.915476\n",
              "3        Kode_Wilayah   8093.175713\n",
              "5               Biaya   1449.219381\n",
              "2      Izin_Mengemudi     66.000000"
            ]
          },
          "metadata": {
            "tags": []
          },
          "execution_count": 19
        }
      ]
    },
    {
      "cell_type": "markdown",
      "metadata": {
        "id": "uuH3iaQaZp_D"
      },
      "source": [
        "# Modelling"
      ]
    },
    {
      "cell_type": "code",
      "metadata": {
        "id": "vsJptdZOeE-J"
      },
      "source": [
        "atribut = data.drop(columns='Target')\n",
        "label = data.Target"
      ],
      "execution_count": null,
      "outputs": []
    },
    {
      "cell_type": "code",
      "metadata": {
        "id": "wEgHge7HZslk"
      },
      "source": [
        "X_train, X_test, y_train, y_test = train_test_split(atribut,label,test_size=0.2, random_state = 4)"
      ],
      "execution_count": null,
      "outputs": []
    },
    {
      "cell_type": "code",
      "metadata": {
        "colab": {
          "base_uri": "https://localhost:8080/"
        },
        "id": "d-ZTnBuGbWDz",
        "outputId": "f5707a91-788c-4be2-a6cb-52cee1bb0625"
      },
      "source": [
        "model = RandomForestClassifier(n_estimators=500, n_jobs=-1)\n",
        "model.fit(X_train, y_train)"
      ],
      "execution_count": null,
      "outputs": [
        {
          "output_type": "execute_result",
          "data": {
            "text/plain": [
              "RandomForestClassifier(bootstrap=True, ccp_alpha=0.0, class_weight=None,\n",
              "                       criterion='gini', max_depth=None, max_features='auto',\n",
              "                       max_leaf_nodes=None, max_samples=None,\n",
              "                       min_impurity_decrease=0.0, min_impurity_split=None,\n",
              "                       min_samples_leaf=1, min_samples_split=2,\n",
              "                       min_weight_fraction_leaf=0.0, n_estimators=500,\n",
              "                       n_jobs=-1, oob_score=False, random_state=None, verbose=0,\n",
              "                       warm_start=False)"
            ]
          },
          "metadata": {
            "tags": []
          },
          "execution_count": 22
        }
      ]
    },
    {
      "cell_type": "code",
      "metadata": {
        "colab": {
          "base_uri": "https://localhost:8080/",
          "height": 442
        },
        "id": "mtm9z02LOCSJ",
        "outputId": "d103343f-6dba-4514-dd7e-818533ad8755"
      },
      "source": [
        "import numpy as np\n",
        "from matplotlib.colors import ListedColormap\n",
        "X_set, y_set = X_train, y_train\n",
        "# generates every pixel in the table. MeshGrid creates one entry for every point from X1 to X2\n",
        "X1, X2 = np.meshgrid(np.arange(start=X_set[:, 0].min() - 1, stop=X_set[:, 0].max() + 1, step=0.01),\n",
        "                     np.arange(start=X_set[:, 0].min() - 1, stop=X_set[:, 0].max() + 1, step=0.01))\n",
        "# classifies every pixel as 0 or 1\n",
        "plt.contourf(X1, X2, data.predict(np.array([X1.ravel(), X2.ravel()]).T).reshape(X1.shape),\n",
        "             alpha=0.75, cmap=ListedColormap(('red', 'green')))\n",
        "for i, j in enumerate(np.unique(y_set)):\n",
        "    plt.scatter(X_set[y_set == j, 0], X_set[y_set == j, 1],\n",
        "                c=ListedColormap(('red', 'green'))(i), label=j)\n",
        "plt.xlim(X1.min(), X1.max())\n",
        "plt.ylim(X2.min(), X2.max())\n",
        "plt.title('Decision Tree Classifier')\n",
        "plt.xlabel('Age')\n",
        "plt.ylabel('Estimated Salary')\n",
        "plt.show()"
      ],
      "execution_count": null,
      "outputs": [
        {
          "output_type": "error",
          "ename": "TypeError",
          "evalue": "ignored",
          "traceback": [
            "\u001b[0;31m---------------------------------------------------------------------------\u001b[0m",
            "\u001b[0;31mTypeError\u001b[0m                                 Traceback (most recent call last)",
            "\u001b[0;32m<ipython-input-24-f43979b1d56f>\u001b[0m in \u001b[0;36m<module>\u001b[0;34m()\u001b[0m\n\u001b[1;32m      3\u001b[0m \u001b[0mX_set\u001b[0m\u001b[0;34m,\u001b[0m \u001b[0my_set\u001b[0m \u001b[0;34m=\u001b[0m \u001b[0mX_train\u001b[0m\u001b[0;34m,\u001b[0m \u001b[0my_train\u001b[0m\u001b[0;34m\u001b[0m\u001b[0;34m\u001b[0m\u001b[0m\n\u001b[1;32m      4\u001b[0m \u001b[0;31m# generates every pixel in the table. MeshGrid creates one entry for every point from X1 to X2\u001b[0m\u001b[0;34m\u001b[0m\u001b[0;34m\u001b[0m\u001b[0;34m\u001b[0m\u001b[0m\n\u001b[0;32m----> 5\u001b[0;31m X1, X2 = np.meshgrid(np.arange(start=X_set[:, 0].min() - 1, stop=X_set[:, 0].max() + 1, step=0.01),\n\u001b[0m\u001b[1;32m      6\u001b[0m                      np.arange(start=X_set[:, 0].min() - 1, stop=X_set[:, 0].max() + 1, step=0.01))\n\u001b[1;32m      7\u001b[0m \u001b[0;31m# classifies every pixel as 0 or 1\u001b[0m\u001b[0;34m\u001b[0m\u001b[0;34m\u001b[0m\u001b[0;34m\u001b[0m\u001b[0m\n",
            "\u001b[0;32m/usr/local/lib/python3.7/dist-packages/pandas/core/frame.py\u001b[0m in \u001b[0;36m__getitem__\u001b[0;34m(self, key)\u001b[0m\n\u001b[1;32m   2904\u001b[0m             \u001b[0;32mif\u001b[0m \u001b[0mself\u001b[0m\u001b[0;34m.\u001b[0m\u001b[0mcolumns\u001b[0m\u001b[0;34m.\u001b[0m\u001b[0mnlevels\u001b[0m \u001b[0;34m>\u001b[0m \u001b[0;36m1\u001b[0m\u001b[0;34m:\u001b[0m\u001b[0;34m\u001b[0m\u001b[0;34m\u001b[0m\u001b[0m\n\u001b[1;32m   2905\u001b[0m                 \u001b[0;32mreturn\u001b[0m \u001b[0mself\u001b[0m\u001b[0;34m.\u001b[0m\u001b[0m_getitem_multilevel\u001b[0m\u001b[0;34m(\u001b[0m\u001b[0mkey\u001b[0m\u001b[0;34m)\u001b[0m\u001b[0;34m\u001b[0m\u001b[0;34m\u001b[0m\u001b[0m\n\u001b[0;32m-> 2906\u001b[0;31m             \u001b[0mindexer\u001b[0m \u001b[0;34m=\u001b[0m \u001b[0mself\u001b[0m\u001b[0;34m.\u001b[0m\u001b[0mcolumns\u001b[0m\u001b[0;34m.\u001b[0m\u001b[0mget_loc\u001b[0m\u001b[0;34m(\u001b[0m\u001b[0mkey\u001b[0m\u001b[0;34m)\u001b[0m\u001b[0;34m\u001b[0m\u001b[0;34m\u001b[0m\u001b[0m\n\u001b[0m\u001b[1;32m   2907\u001b[0m             \u001b[0;32mif\u001b[0m \u001b[0mis_integer\u001b[0m\u001b[0;34m(\u001b[0m\u001b[0mindexer\u001b[0m\u001b[0;34m)\u001b[0m\u001b[0;34m:\u001b[0m\u001b[0;34m\u001b[0m\u001b[0;34m\u001b[0m\u001b[0m\n\u001b[1;32m   2908\u001b[0m                 \u001b[0mindexer\u001b[0m \u001b[0;34m=\u001b[0m \u001b[0;34m[\u001b[0m\u001b[0mindexer\u001b[0m\u001b[0;34m]\u001b[0m\u001b[0;34m\u001b[0m\u001b[0;34m\u001b[0m\u001b[0m\n",
            "\u001b[0;32m/usr/local/lib/python3.7/dist-packages/pandas/core/indexes/base.py\u001b[0m in \u001b[0;36mget_loc\u001b[0;34m(self, key, method, tolerance)\u001b[0m\n\u001b[1;32m   2896\u001b[0m             \u001b[0mcasted_key\u001b[0m \u001b[0;34m=\u001b[0m \u001b[0mself\u001b[0m\u001b[0;34m.\u001b[0m\u001b[0m_maybe_cast_indexer\u001b[0m\u001b[0;34m(\u001b[0m\u001b[0mkey\u001b[0m\u001b[0;34m)\u001b[0m\u001b[0;34m\u001b[0m\u001b[0;34m\u001b[0m\u001b[0m\n\u001b[1;32m   2897\u001b[0m             \u001b[0;32mtry\u001b[0m\u001b[0;34m:\u001b[0m\u001b[0;34m\u001b[0m\u001b[0;34m\u001b[0m\u001b[0m\n\u001b[0;32m-> 2898\u001b[0;31m                 \u001b[0;32mreturn\u001b[0m \u001b[0mself\u001b[0m\u001b[0;34m.\u001b[0m\u001b[0m_engine\u001b[0m\u001b[0;34m.\u001b[0m\u001b[0mget_loc\u001b[0m\u001b[0;34m(\u001b[0m\u001b[0mcasted_key\u001b[0m\u001b[0;34m)\u001b[0m\u001b[0;34m\u001b[0m\u001b[0;34m\u001b[0m\u001b[0m\n\u001b[0m\u001b[1;32m   2899\u001b[0m             \u001b[0;32mexcept\u001b[0m \u001b[0mKeyError\u001b[0m \u001b[0;32mas\u001b[0m \u001b[0merr\u001b[0m\u001b[0;34m:\u001b[0m\u001b[0;34m\u001b[0m\u001b[0;34m\u001b[0m\u001b[0m\n\u001b[1;32m   2900\u001b[0m                 \u001b[0;32mraise\u001b[0m \u001b[0mKeyError\u001b[0m\u001b[0;34m(\u001b[0m\u001b[0mkey\u001b[0m\u001b[0;34m)\u001b[0m \u001b[0;32mfrom\u001b[0m \u001b[0merr\u001b[0m\u001b[0;34m\u001b[0m\u001b[0;34m\u001b[0m\u001b[0m\n",
            "\u001b[0;32mpandas/_libs/index.pyx\u001b[0m in \u001b[0;36mpandas._libs.index.IndexEngine.get_loc\u001b[0;34m()\u001b[0m\n",
            "\u001b[0;32mpandas/_libs/index.pyx\u001b[0m in \u001b[0;36mpandas._libs.index.IndexEngine.get_loc\u001b[0;34m()\u001b[0m\n",
            "\u001b[0;31mTypeError\u001b[0m: '(slice(None, None, None), 0)' is an invalid key"
          ]
        }
      ]
    },
    {
      "cell_type": "markdown",
      "metadata": {
        "id": "JjWSMHm8cINW"
      },
      "source": [
        "# Evaluation Predict"
      ]
    },
    {
      "cell_type": "code",
      "metadata": {
        "id": "cvwsmKS8cXeO"
      },
      "source": [
        "y_predict = model.predict(X_test)"
      ],
      "execution_count": null,
      "outputs": []
    },
    {
      "cell_type": "code",
      "metadata": {
        "colab": {
          "base_uri": "https://localhost:8080/"
        },
        "id": "I-xbDQOhl4l6",
        "outputId": "1ffdea53-aad2-413c-a03c-dd4d0a9f90cf"
      },
      "source": [
        "confusion_matrix(y_test, y_predict)"
      ],
      "execution_count": null,
      "outputs": [
        {
          "output_type": "execute_result",
          "data": {
            "text/plain": [
              "array([[10765,   198],\n",
              "       [  992,   157]])"
            ]
          },
          "metadata": {
            "tags": []
          },
          "execution_count": 338
        }
      ]
    },
    {
      "cell_type": "markdown",
      "metadata": {
        "id": "O_hrJle-sDIo"
      },
      "source": [
        "![confusion.png](data:image/png;base64,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)"
      ]
    },
    {
      "cell_type": "code",
      "metadata": {
        "colab": {
          "base_uri": "https://localhost:8080/"
        },
        "id": "HoJ2Y-LOe9oU",
        "outputId": "a25290eb-7433-4884-dd05-fa88149fbeb5"
      },
      "source": [
        "print('accuracy: ', accuracy_score(y_test,y_predict))\n",
        "print('precision: ', precision_score(y_test,y_predict))\n",
        "print('recall: ', recall_score(y_test,y_predict))"
      ],
      "execution_count": null,
      "outputs": [
        {
          "output_type": "stream",
          "text": [
            "accuracy:  0.9017503302509907\n",
            "precision:  0.4422535211267606\n",
            "recall:  0.13664055700609226\n"
          ],
          "name": "stdout"
        }
      ]
    },
    {
      "cell_type": "markdown",
      "metadata": {
        "id": "DmIi5R7bSMk3"
      },
      "source": [
        "# Daftar pustaka"
      ]
    },
    {
      "cell_type": "markdown",
      "metadata": {
        "id": "MqC7jNspSPIW"
      },
      "source": [
        "\n",
        "\n",
        "*   Fillna/data kosong: https://medium.com/analytics-vidhya/handling-missing-data-with-pandas-36fb8d268a0d `[diakses 21 Mei 2021]`\n",
        "*   sorting data array: https://www.w3schools.com/python/numpy/numpy_array_sort.asp `[diakses 21 Mei 2021]`\n",
        "*   Referensi EDA: https://www.kaggle.com/dejavu23/titanic-eda-to-ml-beginner `[diakses 21 Mei 2021]`\n",
        "*   Confusion metrix: https://medium.com/@ksnugroho/confusion-matrix-untuk-evaluasi-model-pada-unsupervised-machine-learning-bc4b1ae9ae3f `[Diakses 24 Mei 2021]`\n",
        "*   Random forest https://www.kaggle.com/prashant111/random-forest-classifier-tutorial\n",
        "https://www.kaggle.com/prashant111/random-forest-classifier-feature-importance `[Diakses 4 Juni 2021]`\n"
      ]
    }
  ]
}